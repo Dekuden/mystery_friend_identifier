{
 "cells": [
  {
   "cell_type": "markdown",
   "id": "8869af05",
   "metadata": {},
   "source": [
    "# Mystery Friend"
   ]
  },
  {
   "cell_type": "markdown",
   "id": "362e05f6",
   "metadata": {},
   "source": [
    "You've received an anonymous postcard from a friend who you haven't seen in years. Your friend did not leave a name, but the card is definitely addressed to you. So far, you've narrowed your search down to three friends, based on handwriting:\n",
    "- Emma Goldman\n",
    "- Matthew Henson\n",
    "- TingFang Wu\n",
    "\n",
    "But which one sent you the card?\n"
   ]
  },
  {
   "cell_type": "markdown",
   "id": "65f1d856",
   "metadata": {},
   "source": [
    "## Creating Feature Vectors and other variables"
   ]
  },
  {
   "cell_type": "markdown",
   "id": "203a9ff3",
   "metadata": {},
   "source": [
    "1. `CountVectorizer` from sklearn.feature_extraction.text and `MultinomialNB` from sklearn.naive_bayes is imported"
   ]
  },
  {
   "cell_type": "code",
   "execution_count": 76,
   "id": "3ccbd886",
   "metadata": {},
   "outputs": [],
   "source": [
    "# import sklearn modules here:\n",
    "from sklearn.feature_extraction.text import CountVectorizer\n",
    "from sklearn.naive_bayes import MultinomialNB"
   ]
  },
  {
   "cell_type": "markdown",
   "id": "da6a2a00",
   "metadata": {},
   "source": [
    "2. Define `bow_vectorizer` as an implementation of `CountVectorizer`."
   ]
  },
  {
   "cell_type": "code",
   "execution_count": 77,
   "id": "e6d6464f",
   "metadata": {},
   "outputs": [],
   "source": [
    "# Create bow_vectorizer:\n",
    "bow_vectorizer = CountVectorizer()"
   ]
  },
  {
   "cell_type": "markdown",
   "id": "968a39cb",
   "metadata": {},
   "source": [
    "3. `bow_vectorizer` is trained and vectorized with all of my friends' writing (stored in the variable `friends_docs`). The resulting vector object is saved as `friends_vectors`."
   ]
  },
  {
   "cell_type": "code",
   "execution_count": 78,
   "id": "b1366163",
   "metadata": {},
   "outputs": [],
   "source": [
    "import import_ipynb\n",
    "\n",
    "from goldman_emma_raw import goldman_docs\n",
    "from henson_matthew_raw import henson_docs\n",
    "from wu_tingfang_raw import wu_docs\n",
    "\n",
    "\n",
    "friends_docs = goldman_docs + henson_docs + wu_docs\n",
    "\n",
    "# Define friends_vectors:\n",
    "friends_vectors = bow_vectorizer.fit_transform(friends_docs)"
   ]
  },
  {
   "cell_type": "markdown",
   "id": "21578a5d",
   "metadata": {},
   "source": [
    "4. A new variable `mystery_vector` is created. It is assigned to the vectorized form of `[mystery_postcard]` using the vectorizer's `.transform()` method."
   ]
  },
  {
   "cell_type": "code",
   "execution_count": 93,
   "id": "9d7dc322",
   "metadata": {
    "scrolled": false
   },
   "outputs": [],
   "source": [
    "# Define mystery_vector:\n",
    "from mystery_postcard import mystery_postcard\n",
    "mystery_vector = bow_vectorizer.transform([mystery_postcard])\n",
    "\n",
    "#mystery_postcard is a string, while the vectorizer expects a list as an argument. thus the []"
   ]
  },
  {
   "cell_type": "markdown",
   "id": "4cdc6963",
   "metadata": {},
   "source": [
    "## Mystery Friend Gets Classified"
   ]
  },
  {
   "cell_type": "markdown",
   "id": "f47ac51e",
   "metadata": {},
   "source": [
    "5. All the documents have been vectorized. Let's now take a look at my friends' writing samples to get a sense of how they write by printing out each friend's document (any random document will do - I just used the 31st document in this case)\n"
   ]
  },
  {
   "cell_type": "code",
   "execution_count": 94,
   "id": "7ca6fdb0",
   "metadata": {},
   "outputs": [
    {
     "name": "stdout",
     "output_type": "stream",
     "text": [
      "Goldman's Document: God is everything, man is nothing, says religion\n",
      "Henson's Document:On the first and the last of\n",
      "Peary's expeditions, success was marred by tragedy\n",
      "Wu's Document: There were a few Chinese children among the students,\n",
      "and one of them was pointed out to me as the police superintendent.\n",
      "This not only eloquently spoke of his popularity, but showed goodwill\n",
      "and harmony among the several hundred children, and the entire absence\n",
      "of race feeling\n"
     ]
    }
   ],
   "source": [
    "# Print out a document from each friend:\n",
    "\n",
    "print(\"Goldman's Document:\"+ goldman_docs[30])\n",
    "print(\"Henson's Document:\"+ henson_docs[30])\n",
    "print(\"Wu's Document:\"+ wu_docs[30])\n"
   ]
  },
  {
   "cell_type": "markdown",
   "id": "61585924",
   "metadata": {},
   "source": [
    "6. We now have an inkling about which friend wrote the mystery card. We can use a classifier to confirm these suspicions.\n",
    "\n",
    "   A Naive Bayes classifier using `MultinomialNB` is implemented. The result is saved to `friends_classifier`."
   ]
  },
  {
   "cell_type": "code",
   "execution_count": 95,
   "id": "94d04847",
   "metadata": {},
   "outputs": [],
   "source": [
    "# Define friends_classifier:\n",
    "friends_classifier = MultinomialNB()"
   ]
  },
  {
   "cell_type": "markdown",
   "id": "5c592f14",
   "metadata": {},
   "source": [
    "7. `friends_classifier` is fitted (trained) on `friends_vectors` and `friends_labels` using the classifier's `.fit()` method."
   ]
  },
  {
   "cell_type": "code",
   "execution_count": 96,
   "id": "ab331e8b",
   "metadata": {
    "scrolled": true
   },
   "outputs": [
    {
     "data": {
      "text/plain": [
       "MultinomialNB()"
      ]
     },
     "execution_count": 96,
     "metadata": {},
     "output_type": "execute_result"
    }
   ],
   "source": [
    "friends_labels = [\"Emma\"] * 154 + [\"Matthew\"] * 141 + [\"Tingfang\"] * 166\n",
    "\n",
    "# Train the classifier:\n",
    "friends_classifier.fit(friends_vectors, friends_labels)"
   ]
  },
  {
   "cell_type": "markdown",
   "id": "40993688",
   "metadata": {},
   "source": [
    "8. To predict which friend wrote the postcard, the classifier's `predict()` method is called on the `mystery_vector`."
   ]
  },
  {
   "cell_type": "code",
   "execution_count": 97,
   "id": "69dffb15",
   "metadata": {},
   "outputs": [
    {
     "name": "stdout",
     "output_type": "stream",
     "text": [
      "['Matthew']\n"
     ]
    }
   ],
   "source": [
    "predictions = friends_classifier.predict(mystery_vector)\n",
    "print(predictions)"
   ]
  },
  {
   "cell_type": "markdown",
   "id": "d93957d7",
   "metadata": {},
   "source": [
    "## Mystery Revealed!"
   ]
  },
  {
   "cell_type": "markdown",
   "id": "807d3b26",
   "metadata": {},
   "source": [
    "9. We can now see who my mystery friend was all along!"
   ]
  },
  {
   "cell_type": "code",
   "execution_count": 98,
   "id": "714701ec",
   "metadata": {},
   "outputs": [
    {
     "name": "stdout",
     "output_type": "stream",
     "text": [
      "The postcard was from Matthew!\n"
     ]
    }
   ],
   "source": [
    "mystery_friend = predictions[0] if predictions[0] else \"someone else\"\n",
    "\n",
    "print(\"The postcard was from {}!\".format(mystery_friend))"
   ]
  }
 ],
 "metadata": {
  "kernelspec": {
   "display_name": "Python 3 (ipykernel)",
   "language": "python",
   "name": "python3"
  },
  "language_info": {
   "codemirror_mode": {
    "name": "ipython",
    "version": 3
   },
   "file_extension": ".py",
   "mimetype": "text/x-python",
   "name": "python",
   "nbconvert_exporter": "python",
   "pygments_lexer": "ipython3",
   "version": "3.8.5"
  }
 },
 "nbformat": 4,
 "nbformat_minor": 5
}
